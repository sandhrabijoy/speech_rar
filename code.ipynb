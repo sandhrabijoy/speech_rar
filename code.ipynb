{
  "cells": [
    {
      "cell_type": "code",
      "execution_count": 2,
      "id": "f04babad",
      "metadata": {
        "execution": {
          "iopub.execute_input": "2023-05-04T17:23:23.306719Z",
          "iopub.status.busy": "2023-05-04T17:23:23.306349Z",
          "iopub.status.idle": "2023-05-04T17:23:30.085777Z",
          "shell.execute_reply": "2023-05-04T17:23:30.084773Z"
        },
        "id": "f04babad",
        "papermill": {
          "duration": 6.792009,
          "end_time": "2023-05-04T17:23:30.088452",
          "exception": false,
          "start_time": "2023-05-04T17:23:23.296443",
          "status": "completed"
        },
        "tags": []
      },
      "outputs": [
        {
          "name": "stdout",
          "output_type": "stream",
          "text": [
            "WARNING:tensorflow:From c:\\Users\\HP\\AppData\\Local\\Programs\\Python\\Python311\\Lib\\site-packages\\keras\\src\\losses.py:2976: The name tf.losses.sparse_softmax_cross_entropy is deprecated. Please use tf.compat.v1.losses.sparse_softmax_cross_entropy instead.\n",
            "\n"
          ]
        }
      ],
      "source": [
        "#Import necessary Libraries\n",
        "import pandas as pd\n",
        "import numpy as np\n",
        "\n",
        "import string\n",
        "import re\n",
        "import os\n",
        "\n",
        "import tensorflow as tf\n",
        "from sklearn.model_selection import train_test_split\n",
        "from tensorflow.keras.layers import TextVectorization\n",
        "from tensorflow import keras\n",
        "from tensorflow.keras import layers\n",
        "\n",
        "from params import *\n"
      ]
    },
    {
      "cell_type": "code",
      "execution_count": 3,
      "id": "e072d36a",
      "metadata": {
        "colab": {
          "base_uri": "https://localhost:8080/",
          "height": 224
        },
        "execution": {
          "iopub.execute_input": "2023-05-04T17:23:30.114884Z",
          "iopub.status.busy": "2023-05-04T17:23:30.114270Z",
          "iopub.status.idle": "2023-05-04T17:23:30.410451Z",
          "shell.execute_reply": "2023-05-04T17:23:30.409558Z"
        },
        "id": "e072d36a",
        "outputId": "581a03d8-6be0-4feb-f904-57d7bc51fa1a",
        "papermill": {
          "duration": 0.305366,
          "end_time": "2023-05-04T17:23:30.412531",
          "exception": false,
          "start_time": "2023-05-04T17:23:30.107165",
          "status": "completed"
        },
        "tags": []
      },
      "outputs": [
        {
          "name": "stdout",
          "output_type": "stream",
          "text": [
            "**********************\n"
          ]
        },
        {
          "data": {
            "text/html": [
              "<div>\n",
              "<style scoped>\n",
              "    .dataframe tbody tr th:only-of-type {\n",
              "        vertical-align: middle;\n",
              "    }\n",
              "\n",
              "    .dataframe tbody tr th {\n",
              "        vertical-align: top;\n",
              "    }\n",
              "\n",
              "    .dataframe thead th {\n",
              "        text-align: right;\n",
              "    }\n",
              "</style>\n",
              "<table border=\"1\" class=\"dataframe\">\n",
              "  <thead>\n",
              "    <tr style=\"text-align: right;\">\n",
              "      <th></th>\n",
              "      <th>english</th>\n",
              "      <th>spanish</th>\n",
              "    </tr>\n",
              "  </thead>\n",
              "  <tbody>\n",
              "    <tr>\n",
              "      <th>0</th>\n",
              "      <td>Go.</td>\n",
              "      <td>Ve.</td>\n",
              "    </tr>\n",
              "    <tr>\n",
              "      <th>1</th>\n",
              "      <td>Go.</td>\n",
              "      <td>Vete.</td>\n",
              "    </tr>\n",
              "    <tr>\n",
              "      <th>2</th>\n",
              "      <td>Go.</td>\n",
              "      <td>Vaya.</td>\n",
              "    </tr>\n",
              "    <tr>\n",
              "      <th>3</th>\n",
              "      <td>Go.</td>\n",
              "      <td>Váyase.</td>\n",
              "    </tr>\n",
              "    <tr>\n",
              "      <th>4</th>\n",
              "      <td>Hi.</td>\n",
              "      <td>Hola.</td>\n",
              "    </tr>\n",
              "  </tbody>\n",
              "</table>\n",
              "</div>"
            ],
            "text/plain": [
              "  english  spanish\n",
              "0     Go.      Ve.\n",
              "1     Go.    Vete.\n",
              "2     Go.    Vaya.\n",
              "3     Go.  Váyase.\n",
              "4     Hi.    Hola."
            ]
          },
          "execution_count": 3,
          "metadata": {},
          "output_type": "execute_result"
        }
      ],
      "source": [
        "my_df = pd.read_csv(\"Dataset/data.csv\")\n",
        "print(\"**********************\")\n",
        "my_df.head()\n",
        "\n"
      ]
    },
    {
      "cell_type": "code",
      "execution_count": 4,
      "id": "o61ovPetUei_",
      "metadata": {
        "colab": {
          "base_uri": "https://localhost:8080/"
        },
        "id": "o61ovPetUei_",
        "outputId": "8bb39804-8f66-47d9-f199-534721570667"
      },
      "outputs": [
        {
          "name": "stdout",
          "output_type": "stream",
          "text": [
            "<class 'pandas.core.frame.DataFrame'>\n",
            "RangeIndex: 118964 entries, 0 to 118963\n",
            "Data columns (total 2 columns):\n",
            " #   Column   Non-Null Count   Dtype \n",
            "---  ------   --------------   ----- \n",
            " 0   english  118964 non-null  object\n",
            " 1   spanish  118964 non-null  object\n",
            "dtypes: object(2)\n",
            "memory usage: 1.8+ MB\n",
            "**********************\n"
          ]
        }
      ],
      "source": [
        "my_df.info()\n",
        "print(\"**********************\")"
      ]
    },
    {
      "cell_type": "code",
      "execution_count": 5,
      "id": "1e4ebc77",
      "metadata": {},
      "outputs": [],
      "source": [
        "# This line of code modifies the \"spanish\" column of the DataFrame `my_df` by applying a lambda function to each item in the column..\n",
        "\n",
        "my_df[\"spanish\"] = my_df[\"spanish\"].apply(lambda item: Get_Params.begin_token + \" \" + item + \" \" + Get_Params.end_token)"
      ]
    },
    {
      "cell_type": "code",
      "execution_count": 6,
      "id": "bf4138c0",
      "metadata": {},
      "outputs": [
        {
          "name": "stdout",
          "output_type": "stream",
          "text": [
            "Missing Values:\n",
            "english    0\n",
            "spanish    0\n",
            "dtype: int64\n"
          ]
        },
        {
          "data": {
            "text/html": [
              "<div>\n",
              "<style scoped>\n",
              "    .dataframe tbody tr th:only-of-type {\n",
              "        vertical-align: middle;\n",
              "    }\n",
              "\n",
              "    .dataframe tbody tr th {\n",
              "        vertical-align: top;\n",
              "    }\n",
              "\n",
              "    .dataframe thead th {\n",
              "        text-align: right;\n",
              "    }\n",
              "</style>\n",
              "<table border=\"1\" class=\"dataframe\">\n",
              "  <thead>\n",
              "    <tr style=\"text-align: right;\">\n",
              "      <th></th>\n",
              "      <th>english</th>\n",
              "      <th>spanish</th>\n",
              "    </tr>\n",
              "  </thead>\n",
              "  <tbody>\n",
              "    <tr>\n",
              "      <th>0</th>\n",
              "      <td>Go.</td>\n",
              "      <td>[start] Ve. [end]</td>\n",
              "    </tr>\n",
              "    <tr>\n",
              "      <th>1</th>\n",
              "      <td>Go.</td>\n",
              "      <td>[start] Vete. [end]</td>\n",
              "    </tr>\n",
              "    <tr>\n",
              "      <th>2</th>\n",
              "      <td>Go.</td>\n",
              "      <td>[start] Vaya. [end]</td>\n",
              "    </tr>\n",
              "    <tr>\n",
              "      <th>3</th>\n",
              "      <td>Go.</td>\n",
              "      <td>[start] Váyase. [end]</td>\n",
              "    </tr>\n",
              "    <tr>\n",
              "      <th>4</th>\n",
              "      <td>Hi.</td>\n",
              "      <td>[start] Hola. [end]</td>\n",
              "    </tr>\n",
              "  </tbody>\n",
              "</table>\n",
              "</div>"
            ],
            "text/plain": [
              "  english                spanish\n",
              "0     Go.      [start] Ve. [end]\n",
              "1     Go.    [start] Vete. [end]\n",
              "2     Go.    [start] Vaya. [end]\n",
              "3     Go.  [start] Váyase. [end]\n",
              "4     Hi.    [start] Hola. [end]"
            ]
          },
          "execution_count": 6,
          "metadata": {},
          "output_type": "execute_result"
        }
      ],
      "source": [
        "missing_values = my_df.isnull().sum()\n",
        "\n",
        "print(\"Missing Values:\")\n",
        "print(missing_values)\n",
        "\n",
        "my_df.head()"
      ]
    },
    {
      "cell_type": "code",
      "execution_count": null,
      "id": "9688af96",
      "metadata": {},
      "outputs": [],
      "source": []
    }
  ],
  "metadata": {
    "accelerator": "GPU",
    "colab": {
      "gpuType": "T4",
      "provenance": []
    },
    "kernelspec": {
      "display_name": "Python 3",
      "name": "python3"
    },
    "language_info": {
      "codemirror_mode": {
        "name": "ipython",
        "version": 3
      },
      "file_extension": ".py",
      "mimetype": "text/x-python",
      "name": "python",
      "nbconvert_exporter": "python",
      "pygments_lexer": "ipython3",
      "version": "3.11.5"
    },
    "papermill": {
      "default_parameters": {},
      "duration": 907.1236,
      "end_time": "2023-05-04T17:38:21.527285",
      "environment_variables": {},
      "exception": null,
      "input_path": "__notebook__.ipynb",
      "output_path": "__notebook__.ipynb",
      "parameters": {},
      "start_time": "2023-05-04T17:23:14.403685",
      "version": "2.4.0"
    }
  },
  "nbformat": 4,
  "nbformat_minor": 5
}
